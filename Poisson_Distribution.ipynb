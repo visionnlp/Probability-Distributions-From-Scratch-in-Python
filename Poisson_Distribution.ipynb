{
  "nbformat": 4,
  "nbformat_minor": 5,
  "metadata": {
    "kernelspec": {
      "display_name": "Python 3",
      "language": "python",
      "name": "python3"
    },
    "language_info": {
      "codemirror_mode": {
        "name": "ipython",
        "version": 3
      },
      "file_extension": ".py",
      "mimetype": "text/x-python",
      "name": "python",
      "nbconvert_exporter": "python",
      "pygments_lexer": "ipython3",
      "version": "3.8.8"
    },
    "colab": {
      "name": "Poisson Distribution.ipynb",
      "provenance": [],
      "collapsed_sections": []
    }
  },
  "cells": [
    {
      "cell_type": "markdown",
      "metadata": {
        "id": "13440d00"
      },
      "source": [
        "## Poisson Distribution:\n",
        "\n",
        "A discrete random variable X said to have Poisson distribution with parameter λ if its\n",
        "p.m.f. is given by,\n",
        "\n",
        " ![image.png](data:image/png;base64,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)\n",
        "\n",
        "Where,   \n",
        "\n",
        "                       λ = the expected rate of occurrences"
      ],
      "id": "13440d00"
    },
    {
      "cell_type": "code",
      "metadata": {
        "id": "LEGaL7k1DV1O"
      },
      "source": [
        ""
      ],
      "id": "LEGaL7k1DV1O",
      "execution_count": null,
      "outputs": []
    },
    {
      "cell_type": "markdown",
      "metadata": {
        "id": "22b130cb"
      },
      "source": [
        "### **Properties of Poisson Distributions:\n",
        "\n",
        "1. The mean and variance of the Poisson distribution is the same.\n",
        "2. Poisson Distribution is a limiting case of Binomial distribution as n tends to infinity and probability of success\n",
        "   become very small\n",
        "3. The Poisson distribution is positively skewed and Leptokurtic.\n"
      ],
      "id": "22b130cb"
    },
    {
      "cell_type": "markdown",
      "metadata": {
        "id": "f2a8a456"
      },
      "source": [
        "### **Situation Where Poisson Distribution is Appropriate:**\n",
        "\n",
        "1. Calls per Hour at a Call Center\n",
        "2. suppose a given bank has an average of 3 bankruptcies filed by customers each month. We can use the Poisson distribution calculator to find the probability that the bank receives a specific number of bankruptcy files in a given month."
      ],
      "id": "f2a8a456"
    },
    {
      "cell_type": "markdown",
      "metadata": {
        "id": "af0353f6"
      },
      "source": [
        "### Que.1\n",
        "\n",
        "            It's found that on an average the number of mistake per typed page of typiest is 1.5.\n",
        "\n",
        "            Find the probability that there are three mistake."
      ],
      "id": "af0353f6"
    },
    {
      "cell_type": "code",
      "metadata": {
        "id": "828ed3bc"
      },
      "source": [
        "import math                  # import math library for use of mathematical Operations\n",
        "\n",
        "def factorial(n):            # Here we use User Define function 'factorial' to find the Factorial\n",
        "    x = 1\n",
        "    for i in range(1, n+1):\n",
        "        x = x*i\n",
        "    return x                 \n",
        "\n",
        "def poisson(x,lamda):       # Here we use User define function 'Poisson' & find out the probability of Poisson distribution.\n",
        "    \n",
        "    return ((math.exp(-lamda))*(lamda**x))/factorial(x)\n"
      ],
      "id": "828ed3bc",
      "execution_count": null,
      "outputs": []
    },
    {
      "cell_type": "code",
      "metadata": {
        "id": "af4f8c9b",
        "outputId": "449fe667-23fe-40a5-a856-e9cecfbf78fd"
      },
      "source": [
        "poisson(3,1.5) # Calling Function"
      ],
      "id": "af4f8c9b",
      "execution_count": null,
      "outputs": [
        {
          "data": {
            "text/plain": [
              "0.12551071508349176"
            ]
          },
          "execution_count": 2,
          "metadata": {},
          "output_type": "execute_result"
        }
      ]
    },
    {
      "cell_type": "markdown",
      "metadata": {
        "id": "caf08b8b"
      },
      "source": [
        "**Conclusion:**                                               \n",
        "The probability that there are three mistake per typed page of typiest is 0.1255"
      ],
      "id": "caf08b8b"
    },
    {
      "cell_type": "markdown",
      "metadata": {
        "id": "a919479b"
      },
      "source": [
        "### Que.2\n",
        "\n",
        "A police station received on an average 4 emergency call in an interval of 1hr. What is the probability that there are 2\n",
        "calls received?"
      ],
      "id": "a919479b"
    },
    {
      "cell_type": "code",
      "metadata": {
        "id": "5c789219"
      },
      "source": [
        "def factorial(n):              # Here we use User Define function 'factorial' to find the Factorial            \n",
        "    x = 1\n",
        "    for i in range(1, n+1):\n",
        "        x = x*i\n",
        "    return x"
      ],
      "id": "5c789219",
      "execution_count": null,
      "outputs": []
    },
    {
      "cell_type": "code",
      "metadata": {
        "id": "c865bbc4"
      },
      "source": [
        "import math                    # import math library for use of mathematical Operations\n",
        "def poisson(x,lamda):          # Here we use User define function 'Poisson' & find out the probability of Poisson distribution.\n",
        "    return ((math.exp(-lamda))*(lamda**x))/factorial(x)"
      ],
      "id": "c865bbc4",
      "execution_count": null,
      "outputs": []
    },
    {
      "cell_type": "code",
      "metadata": {
        "id": "725544b8",
        "outputId": "47739e4c-cc41-4066-d50f-4c78357bb3e2"
      },
      "source": [
        "poisson(2,4)                  # Calling Function"
      ],
      "id": "725544b8",
      "execution_count": null,
      "outputs": [
        {
          "data": {
            "text/plain": [
              "0.14652511110987343"
            ]
          },
          "execution_count": 5,
          "metadata": {},
          "output_type": "execute_result"
        }
      ]
    },
    {
      "cell_type": "markdown",
      "metadata": {
        "id": "374bd8fb"
      },
      "source": [
        "**Conclusion:**\n",
        "\n",
        "The probability that there are 2 calls received in an interval of 1hrs is 0.1465"
      ],
      "id": "374bd8fb"
    },
    {
      "cell_type": "code",
      "metadata": {
        "id": "rjaEcLiiiLva"
      },
      "source": [
        ""
      ],
      "id": "rjaEcLiiiLva",
      "execution_count": null,
      "outputs": []
    }
  ]
}