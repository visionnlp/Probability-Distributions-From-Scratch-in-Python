{
  "nbformat": 4,
  "nbformat_minor": 5,
  "metadata": {
    "kernelspec": {
      "display_name": "Python 3",
      "language": "python",
      "name": "python3"
    },
    "language_info": {
      "codemirror_mode": {
        "name": "ipython",
        "version": 3
      },
      "file_extension": ".py",
      "mimetype": "text/x-python",
      "name": "python",
      "nbconvert_exporter": "python",
      "pygments_lexer": "ipython3",
      "version": "3.8.8"
    },
    "colab": {
      "name": "Binomial Distribution.ipynb",
      "provenance": [],
      "collapsed_sections": [],
      "include_colab_link": true
    }
  },
  "cells": [
    {
      "cell_type": "markdown",
      "metadata": {
        "id": "view-in-github",
        "colab_type": "text"
      },
      "source": [
        "<a href=\"https://colab.research.google.com/github/visionnlp/Probability-Distributions-From-Scratch-in-Python/blob/main/Binomial_Distribution.ipynb\" target=\"_parent\"><img src=\"https://colab.research.google.com/assets/colab-badge.svg\" alt=\"Open In Colab\"/></a>"
      ]
    },
    {
      "cell_type": "markdown",
      "metadata": {
        "id": "ab697c43"
      },
      "source": [
        "**Binomial Distribution:**\n",
        "\n",
        "The binomial distribution is the discrete probability distribution that gives only two possible results in an experiment, either Success or Failure outcome in an experiment or survey that is repeated multiple times.\n",
        "\n",
        "The P.M.F. of Binomial Distribution with probability of success P & number of trials x is givn below:\n",
        "\n",
        "![image.png](data:image/png;base64,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)\n",
        "\n",
        "Where, \n",
        "      p = Probability of Success\n",
        "\n",
        "       q = Probability of Failure\n",
        "\n",
        "       N = No of trials.\n",
        "       "
      ],
      "id": "ab697c43"
    },
    {
      "cell_type": "markdown",
      "metadata": {
        "id": "ccb0faa3"
      },
      "source": [
        " ### **Properties of Binomial Distribution:**\n",
        "    \n",
        "    1. The number of observations n is fixed.\n",
        "    2. Each observation is independent.\n",
        "    3. Each observation represents one of two outcomes (\"success\" or \"failure\").\n",
        "    4. The probability of \"success\" p is the same for each outcome."
      ],
      "id": "ccb0faa3"
    },
    {
      "cell_type": "markdown",
      "metadata": {
        "id": "6d8ce70e"
      },
      "source": [
        "### **Situation where Binomial distribution is appropriate:**\n",
        "The likelihood that a patient with a heart attack dies of the attack is 0.06 (i.e. 6 of 100\n",
        "die of the attack). Suppose we have 4 patients who suffer a heart attack, what is the\n",
        "probability 1 will die from the attack?"
      ],
      "id": "6d8ce70e"
    },
    {
      "cell_type": "markdown",
      "metadata": {
        "id": "23fb622b"
      },
      "source": [
        "### Que.1 \n",
        "     Suppose that 80% of adults with allergies report symptomatic relief with a specific medication. If the medication\n",
        "     is given to 10 new patients with allergies, with is the probability that it is effective in exactly seven?"
      ],
      "id": "23fb622b"
    },
    {
      "cell_type": "markdown",
      "metadata": {
        "id": "7cbc459e"
      },
      "source": [
        "We know that,\n",
        "\n",
        " Observation n = 10,\n",
        " \n",
        " Successes or events of interest is x = 7\n",
        " \n",
        " p = 80% i.e p = 0.8,\n",
        " \n",
        " q = 1-p , 1-0.8 = 0.2\n",
        "\n",
        "The probability of 7 successes is:\n"
      ],
      "id": "7cbc459e"
    },
    {
      "cell_type": "code",
      "metadata": {
        "colab": {
          "base_uri": "https://localhost:8080/"
        },
        "id": "2f601b64",
        "outputId": "d3b7e2ef-7afa-4735-dfc3-1d9c0dd0f242"
      },
      "source": [
        "\n",
        "def factorial(n):               # Here we use User Define function 'factorial' to find the Factorial \n",
        "    x = 1\n",
        "    for i in range(1, n+1):\n",
        "        x = x*i\n",
        "    return x\n",
        "\n",
        "factorial(10)\n",
        "\n",
        "def combination(n,k):           # To find the combination of the number of obervations & Success or event of interest\n",
        "    \n",
        "    return factorial(n)/ (factorial(k)*factorial(n-k))\n",
        "\n",
        "def binompmf(k,n,p):            # Here we use User define function binompmf & find out the probability of binomial distribution.\n",
        "    \n",
        "    return combination(n,k)*(p**k)*((1-p)**(n-k))\n",
        "\n",
        "binompmf(7,10,0.8)              # Calling Function\n"
      ],
      "id": "2f601b64",
      "execution_count": null,
      "outputs": [
        {
          "output_type": "execute_result",
          "data": {
            "text/plain": [
              "0.20132659199999994"
            ]
          },
          "metadata": {},
          "execution_count": 2
        }
      ]
    },
    {
      "cell_type": "markdown",
      "metadata": {
        "id": "d3b22eb1"
      },
      "source": [
        "**Conclusion:**\n",
        "The probability that exactly 7 of 10 patients will report relief from symptoms is a 20.13%  \n",
        " "
      ],
      "id": "d3b22eb1"
    },
    {
      "cell_type": "code",
      "metadata": {
        "id": "ioH6IHvUgaEy"
      },
      "source": [
        ""
      ],
      "id": "ioH6IHvUgaEy",
      "execution_count": null,
      "outputs": []
    },
    {
      "cell_type": "markdown",
      "metadata": {
        "id": "29614b76"
      },
      "source": [
        "**Que.2**                                                   \n",
        "     In five tosses of coins. Find the chance of getting 3 heads."
      ],
      "id": "29614b76"
    },
    {
      "cell_type": "markdown",
      "metadata": {
        "id": "8cfc3573"
      },
      "source": [
        "Since, this is a fair coin, the probability of getting a heads is the same as the probability of getting a tails\n",
        "\n",
        " i.e 0.5. Also, this is a binomial distribution with p = q = 0.5 , n = 5.\n",
        "      "
      ],
      "id": "8cfc3573"
    },
    {
      "cell_type": "code",
      "metadata": {
        "id": "d182a1c2",
        "outputId": "6549c3f2-40d5-4034-ad2e-a4ce176b04a2"
      },
      "source": [
        "# Define Factorial\n",
        "\n",
        "def factorial(n):               # Here we use User Define function 'factorial' to find the Factorial\n",
        "    x = 1\n",
        "    for i in range(1, n+1):\n",
        "        x = x*i\n",
        "    return x\n",
        "\n",
        "factorial(5)\n",
        "\n",
        "# Define Combination\n",
        "\n",
        "def combination(n,k):\n",
        "    \n",
        "    return factorial(n)/ (factorial(k)*factorial(n-k))\n",
        "\n",
        "def binompmf(k,n,p):           # Here we use User define function binompmf & find out the probability of binomial distribution\n",
        "    \n",
        "    return combination(n,k)*(p**k)*((1-p)**(n-k))\n",
        "\n",
        "binompmf(3,5,0.5)              # Calling Function\n"
      ],
      "id": "d182a1c2",
      "execution_count": null,
      "outputs": [
        {
          "data": {
            "text/plain": [
              "0.3125"
            ]
          },
          "execution_count": 3,
          "metadata": {},
          "output_type": "execute_result"
        }
      ]
    },
    {
      "cell_type": "markdown",
      "metadata": {
        "id": "138d64e6"
      },
      "source": [
        "**Conclusion:**\n",
        "\n",
        "The probability of getting 3 head is 0.3125"
      ],
      "id": "138d64e6"
    }
  ]
}